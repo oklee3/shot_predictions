{
 "cells": [
  {
   "cell_type": "markdown",
   "id": "c606958d-d81d-4b33-96e4-97ee650a90a7",
   "metadata": {},
   "source": [
    "<h1 style=\"text-align: center;\">NBA Shot Predictor</h1>\n",
    "<h5 style=\"text-align: center;\">Oliver Lee</h5>"
   ]
  },
  {
   "cell_type": "markdown",
   "id": "54b8b4e3-1850-43ba-a4fb-9e321cdcf43a",
   "metadata": {},
   "source": [
    "\n",
    "## 1. Data Collection and Preprocessing  \n",
    "The goal of this project is to train a model to predict the likelihood a shot is made based on a variety of factors including shot location, shot type, player stats, and more. The main data used for training is found here: https://github.com/DomSamangy/NBA_Shots_04_25. This data contains every shot taken in the NBA from 2004-2025, with features such as player, shot type, shot location, etc.  \n",
    "\n",
    "Then merge this data with individual player statistics from the NBA API as shown below."
   ]
  },
  {
   "cell_type": "code",
   "execution_count": null,
   "id": "717c1270-e3e0-4f23-adf1-710dbd5f113a",
   "metadata": {},
   "outputs": [],
   "source": [
    "import pandas as pd\n",
    "from tqdm.notebook import tqdm\n",
    "import time\n",
    "from nba_api.stats.endpoints import PlayerDashboardByYearOverYear"
   ]
  },
  {
   "cell_type": "markdown",
   "id": "01ab3649-d200-40d0-8532-cdfc386a8bdf",
   "metadata": {},
   "source": [
    "#### Define function to fetch stats for a single player\n",
    "\n",
    "This function uses the NBA API to get field goal %, 3-point %, and minutes played for a given player in the specified season."
   ]
  },
  {
   "cell_type": "code",
   "execution_count": null,
   "id": "c734f6fc-9a81-495b-b021-86863e808cdf",
   "metadata": {},
   "outputs": [],
   "source": [
    "def get_player_stats(player_id, season='2024-25'):\n",
    "    try:\n",
    "        dash = PlayerDashboardByYearOverYear(player_id=player_id, season=season)\n",
    "        df = dash.get_data_frames()[1]\n",
    "        latest_season = df[df['GROUP_VALUE'] == season]\n",
    "        stats = latest_season[['FG_PCT', 'FG3_PCT', 'MIN']].copy()\n",
    "        stats['PLAYER_ID'] = player_id\n",
    "        return stats\n",
    "    except Exception as e:\n",
    "        return None"
   ]
  },
  {
   "cell_type": "markdown",
   "id": "3b9fc4d8-49cc-4fb0-9a5c-1c4d90d1bd1e",
   "metadata": {},
   "source": [
    "#### Load the raw shot data and fetch stats for unique player IDs"
   ]
  },
  {
   "cell_type": "code",
   "execution_count": null,
   "id": "944b1d44-1986-480d-9c89-8dcd105abefe",
   "metadata": {},
   "outputs": [],
   "source": [
    "original_df = pd.read_csv(\"./raw_data/NBA_2025_Shots.csv\")\n",
    "unique_ids = original_df['PLAYER_ID'].unique()\n",
    "print(f\"Loaded {len(original_df)} shot records for {len(unique_ids)} unique players.\")\n",
    "\n",
    "all_stats = []\n",
    "failed_ids = []\n",
    "\n",
    "for pid in tqdm(unique_ids, desc=\"Fetching Player Stats\"):\n",
    "    stats_df = get_player_stats(pid)\n",
    "    if stats_df is not None:\n",
    "        all_stats.append(stats_df)\n",
    "    else:\n",
    "        failed_ids.append(pid)\n",
    "    time.sleep(0.5)  # Delay to avoid API rate limit"
   ]
  },
  {
   "cell_type": "markdown",
   "id": "9b76be79-4b8f-4e10-85ff-b07c6931077f",
   "metadata": {},
   "source": [
    "#### Merge the fetched stats with the original shot data\n",
    "\n",
    "We'll combine all player stats, merge them with the original dataframe, then save the results."
   ]
  },
  {
   "cell_type": "code",
   "execution_count": null,
   "id": "8d29fb81-8634-4028-ad5f-f0746b6c887f",
   "metadata": {},
   "outputs": [],
   "source": [
    "if all_stats:\n",
    "    stats_combined = pd.concat(all_stats, ignore_index=True)\n",
    "    merged_df = original_df.merge(stats_combined, on='PLAYER_ID', how='left')\n",
    "    \n",
    "    # Preview the merged data\n",
    "    display(merged_df.head())\n",
    "    \n",
    "    # Save merged data to CSV\n",
    "    merged_df.to_csv(\"./merged_data/24_25_allstats.csv\", index=False)\n",
    "    print(f\"Saved merged stats to './merged_data/23_24_allstats.csv'.\")\n",
    "else:\n",
    "    print(\"No player stats were retrieved.\")\n",
    "\n",
    "if failed_ids:\n",
    "    print(f\"Failed to fetch stats for {len(failed_ids)} players:\")\n",
    "    print(failed_ids)\n",
    "else:\n",
    "    print(\"Successfully fetched stats for all players.\")"
   ]
  },
  {
   "cell_type": "markdown",
   "id": "eacb4590-59c8-4841-a956-151985592020",
   "metadata": {},
   "source": [
    "This merging process takes quite a while thanks to the API's rate limiting, but the final merged data will look like this:"
   ]
  },
  {
   "cell_type": "markdown",
   "id": "7f329682-908a-4fd8-bdab-413469b715ab",
   "metadata": {},
   "source": [
    "| SEASON_1 | SEASON_2 | TEAM_ID    | TEAM_NAME          | PLAYER_ID | PLAYER_NAME  | POSITION_GROUP | POSITION | GAME_DATE  | GAME_ID  | HOME_TEAM | AWAY_TEAM | EVENT_TYPE  | SHOT_MADE | ACTION_TYPE               | SHOT_TYPE         | BASIC_ZONE             | ZONE_NAME          | ZONE_ABB | ZONE_RANGE | LOC_X | LOC_Y  | SHOT_DISTANCE | QUARTER | MINS_LEFT | SECS_LEFT | FG_PCT | FG3_PCT | MIN          |\n",
    "|----------|----------|------------|--------------------|-----------|--------------|----------------|----------|------------|----------|-----------|-----------|-------------|-----------|---------------------------|-------------------|------------------------|--------------------|----------|------------|-------|--------|---------------|---------|-----------|-----------|--------|---------|--------------|\n",
    "| 2024     | 2023-24  | 1610612764 | Washington Wizards | 1629673   | Jordan Poole | G              | SG       | 11-03-2023 | 22300003 | MIA       | WAS       | Missed Shot | False     | Driving Floating Jump Shot | 2PT Field Goal    | In The Paint (Non-RA)  | Center             | C        | 8-16 ft.   | -0.4  | 17.45  | 12            | 1       | 11        | 1         | 0.413  | 0.326   | 2345.555     |\n",
    "| 2024     | 2023-24  | 1610612764 | Washington Wizards | 1630166   | Deni Avdija  | F              | SF       | 11-03-2023 | 22300003 | MIA       | WAS       | Made Shot   | True      | Jump Shot                 | 3PT Field Goal    | Above the Break 3       | Center             | C        | 24+ ft.    | 1.5   | 30.55  | 25            | 1       | 10        | 26        | 0.506  | 0.374   | 2256.6433333 |"
   ]
  },
  {
   "cell_type": "markdown",
   "id": "c27f2863-b1b2-4cbd-9347-0ea1567bd063",
   "metadata": {},
   "source": [
    "## 2. Training a Random Forest Classifier"
   ]
  },
  {
   "cell_type": "code",
   "execution_count": 12,
   "id": "9fe19cd4-19c0-4d43-a003-1ffece893beb",
   "metadata": {},
   "outputs": [
    {
     "ename": "ValueError",
     "evalue": "All ufuncs must have type `numpy.ufunc`. Received (<ufunc 'sph_legendre_p'>, <ufunc 'sph_legendre_p'>, <ufunc 'sph_legendre_p'>)",
     "output_type": "error",
     "traceback": [
      "\u001b[31m---------------------------------------------------------------------------\u001b[39m",
      "\u001b[31mValueError\u001b[39m                                Traceback (most recent call last)",
      "\u001b[36mCell\u001b[39m\u001b[36m \u001b[39m\u001b[32mIn[12]\u001b[39m\u001b[32m, line 4\u001b[39m\n\u001b[32m      2\u001b[39m \u001b[38;5;28;01mimport\u001b[39;00m \u001b[34;01mnumpy\u001b[39;00m \u001b[38;5;28;01mas\u001b[39;00m \u001b[34;01mnp\u001b[39;00m\n\u001b[32m      3\u001b[39m \u001b[38;5;28;01mimport\u001b[39;00m \u001b[34;01mjoblib\u001b[39;00m\n\u001b[32m----> \u001b[39m\u001b[32m4\u001b[39m \u001b[38;5;28;01mfrom\u001b[39;00m \u001b[34;01msklearn\u001b[39;00m\u001b[34;01m.\u001b[39;00m\u001b[34;01mensemble\u001b[39;00m \u001b[38;5;28;01mimport\u001b[39;00m RandomForestClassifier\n\u001b[32m      5\u001b[39m \u001b[38;5;28;01mfrom\u001b[39;00m \u001b[34;01msklearn\u001b[39;00m\u001b[34;01m.\u001b[39;00m\u001b[34;01mmodel_selection\u001b[39;00m \u001b[38;5;28;01mimport\u001b[39;00m train_test_split\n",
      "\u001b[36mFile \u001b[39m\u001b[32m~/miniconda3/lib/python3.12/site-packages/sklearn/__init__.py:73\u001b[39m\n\u001b[32m     62\u001b[39m \u001b[38;5;66;03m# `_distributor_init` allows distributors to run custom init code.\u001b[39;00m\n\u001b[32m     63\u001b[39m \u001b[38;5;66;03m# For instance, for the Windows wheel, this is used to pre-load the\u001b[39;00m\n\u001b[32m     64\u001b[39m \u001b[38;5;66;03m# vcomp shared library runtime for OpenMP embedded in the sklearn/.libs\u001b[39;00m\n\u001b[32m   (...)\u001b[39m\u001b[32m     67\u001b[39m \u001b[38;5;66;03m# later is linked to the OpenMP runtime to make it possible to introspect\u001b[39;00m\n\u001b[32m     68\u001b[39m \u001b[38;5;66;03m# it and importing it first would fail if the OpenMP dll cannot be found.\u001b[39;00m\n\u001b[32m     69\u001b[39m \u001b[38;5;28;01mfrom\u001b[39;00m \u001b[34;01m.\u001b[39;00m \u001b[38;5;28;01mimport\u001b[39;00m (  \u001b[38;5;66;03m# noqa: F401 E402\u001b[39;00m\n\u001b[32m     70\u001b[39m     __check_build,\n\u001b[32m     71\u001b[39m     _distributor_init,\n\u001b[32m     72\u001b[39m )\n\u001b[32m---> \u001b[39m\u001b[32m73\u001b[39m \u001b[38;5;28;01mfrom\u001b[39;00m \u001b[34;01m.\u001b[39;00m\u001b[34;01mbase\u001b[39;00m \u001b[38;5;28;01mimport\u001b[39;00m clone  \u001b[38;5;66;03m# noqa: E402\u001b[39;00m\n\u001b[32m     74\u001b[39m \u001b[38;5;28;01mfrom\u001b[39;00m \u001b[34;01m.\u001b[39;00m\u001b[34;01mutils\u001b[39;00m\u001b[34;01m.\u001b[39;00m\u001b[34;01m_show_versions\u001b[39;00m \u001b[38;5;28;01mimport\u001b[39;00m show_versions  \u001b[38;5;66;03m# noqa: E402\u001b[39;00m\n\u001b[32m     76\u001b[39m _submodules = [\n\u001b[32m     77\u001b[39m     \u001b[33m\"\u001b[39m\u001b[33mcalibration\u001b[39m\u001b[33m\"\u001b[39m,\n\u001b[32m     78\u001b[39m     \u001b[33m\"\u001b[39m\u001b[33mcluster\u001b[39m\u001b[33m\"\u001b[39m,\n\u001b[32m   (...)\u001b[39m\u001b[32m    114\u001b[39m     \u001b[33m\"\u001b[39m\u001b[33mcompose\u001b[39m\u001b[33m\"\u001b[39m,\n\u001b[32m    115\u001b[39m ]\n",
      "\u001b[36mFile \u001b[39m\u001b[32m~/miniconda3/lib/python3.12/site-packages/sklearn/base.py:19\u001b[39m\n\u001b[32m     17\u001b[39m \u001b[38;5;28;01mfrom\u001b[39;00m \u001b[34;01m.\u001b[39;00m\u001b[34;01m_config\u001b[39;00m \u001b[38;5;28;01mimport\u001b[39;00m config_context, get_config\n\u001b[32m     18\u001b[39m \u001b[38;5;28;01mfrom\u001b[39;00m \u001b[34;01m.\u001b[39;00m\u001b[34;01mexceptions\u001b[39;00m \u001b[38;5;28;01mimport\u001b[39;00m InconsistentVersionWarning\n\u001b[32m---> \u001b[39m\u001b[32m19\u001b[39m \u001b[38;5;28;01mfrom\u001b[39;00m \u001b[34;01m.\u001b[39;00m\u001b[34;01mutils\u001b[39;00m\u001b[34;01m.\u001b[39;00m\u001b[34;01m_estimator_html_repr\u001b[39;00m \u001b[38;5;28;01mimport\u001b[39;00m _HTMLDocumentationLinkMixin, estimator_html_repr\n\u001b[32m     20\u001b[39m \u001b[38;5;28;01mfrom\u001b[39;00m \u001b[34;01m.\u001b[39;00m\u001b[34;01mutils\u001b[39;00m\u001b[34;01m.\u001b[39;00m\u001b[34;01m_metadata_requests\u001b[39;00m \u001b[38;5;28;01mimport\u001b[39;00m _MetadataRequester, _routing_enabled\n\u001b[32m     21\u001b[39m \u001b[38;5;28;01mfrom\u001b[39;00m \u001b[34;01m.\u001b[39;00m\u001b[34;01mutils\u001b[39;00m\u001b[34;01m.\u001b[39;00m\u001b[34;01m_param_validation\u001b[39;00m \u001b[38;5;28;01mimport\u001b[39;00m validate_parameter_constraints\n",
      "\u001b[36mFile \u001b[39m\u001b[32m~/miniconda3/lib/python3.12/site-packages/sklearn/utils/__init__.py:15\u001b[39m\n\u001b[32m     13\u001b[39m \u001b[38;5;28;01mfrom\u001b[39;00m \u001b[34;01m.\u001b[39;00m \u001b[38;5;28;01mimport\u001b[39;00m _joblib, metadata_routing\n\u001b[32m     14\u001b[39m \u001b[38;5;28;01mfrom\u001b[39;00m \u001b[34;01m.\u001b[39;00m\u001b[34;01m_bunch\u001b[39;00m \u001b[38;5;28;01mimport\u001b[39;00m Bunch\n\u001b[32m---> \u001b[39m\u001b[32m15\u001b[39m \u001b[38;5;28;01mfrom\u001b[39;00m \u001b[34;01m.\u001b[39;00m\u001b[34;01m_chunking\u001b[39;00m \u001b[38;5;28;01mimport\u001b[39;00m gen_batches, gen_even_slices\n\u001b[32m     16\u001b[39m \u001b[38;5;28;01mfrom\u001b[39;00m \u001b[34;01m.\u001b[39;00m\u001b[34;01m_estimator_html_repr\u001b[39;00m \u001b[38;5;28;01mimport\u001b[39;00m estimator_html_repr\n\u001b[32m     18\u001b[39m \u001b[38;5;66;03m# Make _safe_indexing importable from here for backward compat as this particular\u001b[39;00m\n\u001b[32m     19\u001b[39m \u001b[38;5;66;03m# helper is considered semi-private and typically very useful for third-party\u001b[39;00m\n\u001b[32m     20\u001b[39m \u001b[38;5;66;03m# libraries that want to comply with scikit-learn's estimator API. In particular,\u001b[39;00m\n\u001b[32m     21\u001b[39m \u001b[38;5;66;03m# _safe_indexing was included in our public API documentation despite the leading\u001b[39;00m\n\u001b[32m     22\u001b[39m \u001b[38;5;66;03m# `_` in its name.\u001b[39;00m\n",
      "\u001b[36mFile \u001b[39m\u001b[32m~/miniconda3/lib/python3.12/site-packages/sklearn/utils/_chunking.py:11\u001b[39m\n\u001b[32m      8\u001b[39m \u001b[38;5;28;01mimport\u001b[39;00m \u001b[34;01mnumpy\u001b[39;00m \u001b[38;5;28;01mas\u001b[39;00m \u001b[34;01mnp\u001b[39;00m\n\u001b[32m     10\u001b[39m \u001b[38;5;28;01mfrom\u001b[39;00m \u001b[34;01m.\u001b[39;00m\u001b[34;01m.\u001b[39;00m\u001b[34;01m_config\u001b[39;00m \u001b[38;5;28;01mimport\u001b[39;00m get_config\n\u001b[32m---> \u001b[39m\u001b[32m11\u001b[39m \u001b[38;5;28;01mfrom\u001b[39;00m \u001b[34;01m.\u001b[39;00m\u001b[34;01m_param_validation\u001b[39;00m \u001b[38;5;28;01mimport\u001b[39;00m Interval, validate_params\n\u001b[32m     14\u001b[39m \u001b[38;5;28;01mdef\u001b[39;00m \u001b[34mchunk_generator\u001b[39m(gen, chunksize):\n\u001b[32m     15\u001b[39m \u001b[38;5;250m    \u001b[39m\u001b[33;03m\"\"\"Chunk generator, ``gen`` into lists of length ``chunksize``. The last\u001b[39;00m\n\u001b[32m     16\u001b[39m \u001b[33;03m    chunk may have a length less than ``chunksize``.\"\"\"\u001b[39;00m\n",
      "\u001b[36mFile \u001b[39m\u001b[32m~/miniconda3/lib/python3.12/site-packages/sklearn/utils/_param_validation.py:17\u001b[39m\n\u001b[32m     14\u001b[39m \u001b[38;5;28;01mfrom\u001b[39;00m \u001b[34;01mscipy\u001b[39;00m\u001b[34;01m.\u001b[39;00m\u001b[34;01msparse\u001b[39;00m \u001b[38;5;28;01mimport\u001b[39;00m csr_matrix, issparse\n\u001b[32m     16\u001b[39m \u001b[38;5;28;01mfrom\u001b[39;00m \u001b[34;01m.\u001b[39;00m\u001b[34;01m.\u001b[39;00m\u001b[34;01m_config\u001b[39;00m \u001b[38;5;28;01mimport\u001b[39;00m config_context, get_config\n\u001b[32m---> \u001b[39m\u001b[32m17\u001b[39m \u001b[38;5;28;01mfrom\u001b[39;00m \u001b[34;01m.\u001b[39;00m\u001b[34;01mvalidation\u001b[39;00m \u001b[38;5;28;01mimport\u001b[39;00m _is_arraylike_not_scalar\n\u001b[32m     20\u001b[39m \u001b[38;5;28;01mclass\u001b[39;00m \u001b[34;01mInvalidParameterError\u001b[39;00m(\u001b[38;5;167;01mValueError\u001b[39;00m, \u001b[38;5;167;01mTypeError\u001b[39;00m):\n\u001b[32m     21\u001b[39m \u001b[38;5;250m    \u001b[39m\u001b[33;03m\"\"\"Custom exception to be raised when the parameter of a class/method/function\u001b[39;00m\n\u001b[32m     22\u001b[39m \u001b[33;03m    does not have a valid type or value.\u001b[39;00m\n\u001b[32m     23\u001b[39m \u001b[33;03m    \"\"\"\u001b[39;00m\n",
      "\u001b[36mFile \u001b[39m\u001b[32m~/miniconda3/lib/python3.12/site-packages/sklearn/utils/validation.py:21\u001b[39m\n\u001b[32m     19\u001b[39m \u001b[38;5;28;01mfrom\u001b[39;00m \u001b[34;01m.\u001b[39;00m\u001b[34;01m.\u001b[39;00m \u001b[38;5;28;01mimport\u001b[39;00m get_config \u001b[38;5;28;01mas\u001b[39;00m _get_config\n\u001b[32m     20\u001b[39m \u001b[38;5;28;01mfrom\u001b[39;00m \u001b[34;01m.\u001b[39;00m\u001b[34;01m.\u001b[39;00m\u001b[34;01mexceptions\u001b[39;00m \u001b[38;5;28;01mimport\u001b[39;00m DataConversionWarning, NotFittedError, PositiveSpectrumWarning\n\u001b[32m---> \u001b[39m\u001b[32m21\u001b[39m \u001b[38;5;28;01mfrom\u001b[39;00m \u001b[34;01m.\u001b[39;00m\u001b[34;01m.\u001b[39;00m\u001b[34;01mutils\u001b[39;00m\u001b[34;01m.\u001b[39;00m\u001b[34;01m_array_api\u001b[39;00m \u001b[38;5;28;01mimport\u001b[39;00m _asarray_with_order, _is_numpy_namespace, get_namespace\n\u001b[32m     22\u001b[39m \u001b[38;5;28;01mfrom\u001b[39;00m \u001b[34;01m.\u001b[39;00m\u001b[34;01m.\u001b[39;00m\u001b[34;01mutils\u001b[39;00m\u001b[34;01m.\u001b[39;00m\u001b[34;01mdeprecation\u001b[39;00m \u001b[38;5;28;01mimport\u001b[39;00m _deprecate_force_all_finite\n\u001b[32m     23\u001b[39m \u001b[38;5;28;01mfrom\u001b[39;00m \u001b[34;01m.\u001b[39;00m\u001b[34;01m.\u001b[39;00m\u001b[34;01mutils\u001b[39;00m\u001b[34;01m.\u001b[39;00m\u001b[34;01mfixes\u001b[39;00m \u001b[38;5;28;01mimport\u001b[39;00m ComplexWarning, _preserve_dia_indices_dtype\n",
      "\u001b[36mFile \u001b[39m\u001b[32m~/miniconda3/lib/python3.12/site-packages/sklearn/utils/_array_api.py:14\u001b[39m\n\u001b[32m     12\u001b[39m \u001b[38;5;28;01mimport\u001b[39;00m \u001b[34;01mscipy\u001b[39;00m\n\u001b[32m     13\u001b[39m \u001b[38;5;28;01mimport\u001b[39;00m \u001b[34;01mscipy\u001b[39;00m\u001b[34;01m.\u001b[39;00m\u001b[34;01msparse\u001b[39;00m \u001b[38;5;28;01mas\u001b[39;00m \u001b[34;01msp\u001b[39;00m\n\u001b[32m---> \u001b[39m\u001b[32m14\u001b[39m \u001b[38;5;28;01mimport\u001b[39;00m \u001b[34;01mscipy\u001b[39;00m\u001b[34;01m.\u001b[39;00m\u001b[34;01mspecial\u001b[39;00m \u001b[38;5;28;01mas\u001b[39;00m \u001b[34;01mspecial\u001b[39;00m\n\u001b[32m     16\u001b[39m \u001b[38;5;28;01mfrom\u001b[39;00m \u001b[34;01m.\u001b[39;00m\u001b[34;01m.\u001b[39;00m\u001b[34;01m_config\u001b[39;00m \u001b[38;5;28;01mimport\u001b[39;00m get_config\n\u001b[32m     17\u001b[39m \u001b[38;5;28;01mfrom\u001b[39;00m \u001b[34;01m.\u001b[39;00m\u001b[34;01mfixes\u001b[39;00m \u001b[38;5;28;01mimport\u001b[39;00m parse_version\n",
      "\u001b[36mFile \u001b[39m\u001b[32m~/miniconda3/lib/python3.12/site-packages/scipy/special/__init__.py:826\u001b[39m\n\u001b[32m    820\u001b[39m \u001b[38;5;66;03m# Replace some function definitions from _ufuncs to add Array API support\u001b[39;00m\n\u001b[32m    821\u001b[39m \u001b[38;5;28;01mfrom\u001b[39;00m \u001b[34;01m.\u001b[39;00m\u001b[34;01m_support_alternative_backends\u001b[39;00m \u001b[38;5;28;01mimport\u001b[39;00m (\n\u001b[32m    822\u001b[39m     log_ndtr, ndtr, ndtri, erf, erfc, i0, i0e, i1, i1e, gammaln,\n\u001b[32m    823\u001b[39m     gammainc, gammaincc, logit, expit, entr, rel_entr, xlogy,\n\u001b[32m    824\u001b[39m     chdtr, chdtrc, betainc, betaincc, stdtr)\n\u001b[32m--> \u001b[39m\u001b[32m826\u001b[39m \u001b[38;5;28;01mfrom\u001b[39;00m \u001b[34;01m.\u001b[39;00m \u001b[38;5;28;01mimport\u001b[39;00m _basic\n\u001b[32m    827\u001b[39m \u001b[38;5;28;01mfrom\u001b[39;00m \u001b[34;01m.\u001b[39;00m\u001b[34;01m_basic\u001b[39;00m \u001b[38;5;28;01mimport\u001b[39;00m *\n\u001b[32m    829\u001b[39m \u001b[38;5;28;01mfrom\u001b[39;00m \u001b[34;01m.\u001b[39;00m\u001b[34;01m_logsumexp\u001b[39;00m \u001b[38;5;28;01mimport\u001b[39;00m logsumexp, softmax, log_softmax\n",
      "\u001b[36mFile \u001b[39m\u001b[32m~/miniconda3/lib/python3.12/site-packages/scipy/special/_basic.py:22\u001b[39m\n\u001b[32m     20\u001b[39m \u001b[38;5;28;01mfrom\u001b[39;00m \u001b[34;01m.\u001b[39;00m \u001b[38;5;28;01mimport\u001b[39;00m _specfun\n\u001b[32m     21\u001b[39m \u001b[38;5;28;01mfrom\u001b[39;00m \u001b[34;01m.\u001b[39;00m\u001b[34;01m_comb\u001b[39;00m \u001b[38;5;28;01mimport\u001b[39;00m _comb_int\n\u001b[32m---> \u001b[39m\u001b[32m22\u001b[39m \u001b[38;5;28;01mfrom\u001b[39;00m \u001b[34;01m.\u001b[39;00m\u001b[34;01m_multiufuncs\u001b[39;00m \u001b[38;5;28;01mimport\u001b[39;00m (assoc_legendre_p_all,\n\u001b[32m     23\u001b[39m                            legendre_p_all)\n\u001b[32m     24\u001b[39m \u001b[38;5;28;01mfrom\u001b[39;00m \u001b[34;01mscipy\u001b[39;00m\u001b[34;01m.\u001b[39;00m\u001b[34;01m_lib\u001b[39;00m\u001b[34;01m.\u001b[39;00m\u001b[34;01mdeprecation\u001b[39;00m \u001b[38;5;28;01mimport\u001b[39;00m _deprecated\n\u001b[32m     27\u001b[39m __all__ = [\n\u001b[32m     28\u001b[39m     \u001b[33m'\u001b[39m\u001b[33mai_zeros\u001b[39m\u001b[33m'\u001b[39m,\n\u001b[32m     29\u001b[39m     \u001b[33m'\u001b[39m\u001b[33massoc_laguerre\u001b[39m\u001b[33m'\u001b[39m,\n\u001b[32m   (...)\u001b[39m\u001b[32m     87\u001b[39m     \u001b[33m'\u001b[39m\u001b[33mzeta\u001b[39m\u001b[33m'\u001b[39m\n\u001b[32m     88\u001b[39m ]\n",
      "\u001b[36mFile \u001b[39m\u001b[32m~/miniconda3/lib/python3.12/site-packages/scipy/special/_multiufuncs.py:142\u001b[39m\n\u001b[32m    137\u001b[39m             out = \u001b[38;5;28mself\u001b[39m._finalize_out(out)\n\u001b[32m    139\u001b[39m         \u001b[38;5;28;01mreturn\u001b[39;00m out\n\u001b[32m--> \u001b[39m\u001b[32m142\u001b[39m sph_legendre_p = \u001b[43mMultiUFunc\u001b[49m\u001b[43m(\u001b[49m\n\u001b[32m    143\u001b[39m \u001b[43m    \u001b[49m\u001b[43msph_legendre_p\u001b[49m\u001b[43m,\u001b[49m\n\u001b[32m    144\u001b[39m \u001b[38;5;250;43m    \u001b[39;49m\u001b[33;43mr\u001b[39;49m\u001b[33;43;03m\"\"\"sph_legendre_p(n, m, theta, *, diff_n=0)\u001b[39;49;00m\n\u001b[32m    145\u001b[39m \n\u001b[32m    146\u001b[39m \u001b[33;43;03m    Spherical Legendre polynomial of the first kind.\u001b[39;49;00m\n\u001b[32m    147\u001b[39m \n\u001b[32m    148\u001b[39m \u001b[33;43;03m    Parameters\u001b[39;49;00m\n\u001b[32m    149\u001b[39m \u001b[33;43;03m    ----------\u001b[39;49;00m\n\u001b[32m    150\u001b[39m \u001b[33;43;03m    n : ArrayLike[int]\u001b[39;49;00m\n\u001b[32m    151\u001b[39m \u001b[33;43;03m        Degree of the spherical Legendre polynomial. Must have ``n >= 0``.\u001b[39;49;00m\n\u001b[32m    152\u001b[39m \u001b[33;43;03m    m : ArrayLike[int]\u001b[39;49;00m\n\u001b[32m    153\u001b[39m \u001b[33;43;03m        Order of the spherical Legendre polynomial.\u001b[39;49;00m\n\u001b[32m    154\u001b[39m \u001b[33;43;03m    theta : ArrayLike[float]\u001b[39;49;00m\n\u001b[32m    155\u001b[39m \u001b[33;43;03m        Input value.\u001b[39;49;00m\n\u001b[32m    156\u001b[39m \u001b[33;43;03m    diff_n : Optional[int]\u001b[39;49;00m\n\u001b[32m    157\u001b[39m \u001b[33;43;03m        A non-negative integer. Compute and return all derivatives up\u001b[39;49;00m\n\u001b[32m    158\u001b[39m \u001b[33;43;03m        to order ``diff_n``. Default is 0.\u001b[39;49;00m\n\u001b[32m    159\u001b[39m \n\u001b[32m    160\u001b[39m \u001b[33;43;03m    Returns\u001b[39;49;00m\n\u001b[32m    161\u001b[39m \u001b[33;43;03m    -------\u001b[39;49;00m\n\u001b[32m    162\u001b[39m \u001b[33;43;03m    p : ndarray or tuple[ndarray]\u001b[39;49;00m\n\u001b[32m    163\u001b[39m \u001b[33;43;03m        Spherical Legendre polynomial with ``diff_n`` derivatives.\u001b[39;49;00m\n\u001b[32m    164\u001b[39m \n\u001b[32m    165\u001b[39m \u001b[33;43;03m    Notes\u001b[39;49;00m\n\u001b[32m    166\u001b[39m \u001b[33;43;03m    -----\u001b[39;49;00m\n\u001b[32m    167\u001b[39m \u001b[33;43;03m    The spherical counterpart of an (unnormalized) associated Legendre polynomial has\u001b[39;49;00m\n\u001b[32m    168\u001b[39m \u001b[33;43;03m    the additional factor\u001b[39;49;00m\n\u001b[32m    169\u001b[39m \n\u001b[32m    170\u001b[39m \u001b[33;43;03m    .. math::\u001b[39;49;00m\n\u001b[32m    171\u001b[39m \n\u001b[32m    172\u001b[39m \u001b[33;43;03m        \\sqrt{\\frac{(2 n + 1) (n - m)!}{4 \\pi (n + m)!}}\u001b[39;49;00m\n\u001b[32m    173\u001b[39m \n\u001b[32m    174\u001b[39m \u001b[33;43;03m    It is the same as the spherical harmonic :math:`Y_{n}^{m}(\\theta, \\phi)`\u001b[39;49;00m\n\u001b[32m    175\u001b[39m \u001b[33;43;03m    with :math:`\\phi = 0`.\u001b[39;49;00m\n\u001b[32m    176\u001b[39m \u001b[33;43;03m    \"\"\"\u001b[39;49;00m\u001b[43m,\u001b[49m\u001b[43m \u001b[49m\u001b[43mdiff_n\u001b[49m\u001b[43m=\u001b[49m\u001b[32;43m0\u001b[39;49m\n\u001b[32m    177\u001b[39m \u001b[43m)\u001b[49m\n\u001b[32m    180\u001b[39m \u001b[38;5;129m@sph_legendre_p\u001b[39m._override_key\n\u001b[32m    181\u001b[39m \u001b[38;5;28;01mdef\u001b[39;00m \u001b[34m_\u001b[39m(diff_n):\n\u001b[32m    182\u001b[39m     diff_n = _nonneg_int_or_fail(diff_n, \u001b[33m\"\u001b[39m\u001b[33mdiff_n\u001b[39m\u001b[33m\"\u001b[39m, strict=\u001b[38;5;28;01mFalse\u001b[39;00m)\n",
      "\u001b[36mFile \u001b[39m\u001b[32m~/miniconda3/lib/python3.12/site-packages/scipy/special/_multiufuncs.py:41\u001b[39m, in \u001b[36mMultiUFunc.__init__\u001b[39m\u001b[34m(self, ufunc_or_ufuncs, doc, force_complex_output, **default_kwargs)\u001b[39m\n\u001b[32m     39\u001b[39m \u001b[38;5;28;01mfor\u001b[39;00m ufunc \u001b[38;5;129;01min\u001b[39;00m ufuncs_iter:\n\u001b[32m     40\u001b[39m     \u001b[38;5;28;01mif\u001b[39;00m \u001b[38;5;129;01mnot\u001b[39;00m \u001b[38;5;28misinstance\u001b[39m(ufunc, np.ufunc):\n\u001b[32m---> \u001b[39m\u001b[32m41\u001b[39m         \u001b[38;5;28;01mraise\u001b[39;00m \u001b[38;5;167;01mValueError\u001b[39;00m(\u001b[33m\"\u001b[39m\u001b[33mAll ufuncs must have type `numpy.ufunc`.\u001b[39m\u001b[33m\"\u001b[39m\n\u001b[32m     42\u001b[39m                          \u001b[33mf\u001b[39m\u001b[33m\"\u001b[39m\u001b[33m Received \u001b[39m\u001b[38;5;132;01m{\u001b[39;00mufunc_or_ufuncs\u001b[38;5;132;01m}\u001b[39;00m\u001b[33m\"\u001b[39m)\n\u001b[32m     43\u001b[39m     seen_input_types.add(\u001b[38;5;28mfrozenset\u001b[39m(x.split(\u001b[33m\"\u001b[39m\u001b[33m->\u001b[39m\u001b[33m\"\u001b[39m)[\u001b[32m0\u001b[39m] \u001b[38;5;28;01mfor\u001b[39;00m x \u001b[38;5;129;01min\u001b[39;00m ufunc.types))\n\u001b[32m     44\u001b[39m \u001b[38;5;28;01mif\u001b[39;00m \u001b[38;5;28mlen\u001b[39m(seen_input_types) > \u001b[32m1\u001b[39m:\n",
      "\u001b[31mValueError\u001b[39m: All ufuncs must have type `numpy.ufunc`. Received (<ufunc 'sph_legendre_p'>, <ufunc 'sph_legendre_p'>, <ufunc 'sph_legendre_p'>)"
     ]
    }
   ],
   "source": [
    "import pandas as pd\n",
    "import numpy as np\n",
    "import joblib\n",
    "from sklearn.ensemble import RandomForestClassifier\n",
    "from sklearn.model_selection import train_test_split"
   ]
  },
  {
   "cell_type": "markdown",
   "id": "69f4ae5c-5d32-4835-b372-8fd4b662750a",
   "metadata": {},
   "source": [
    "#### Removing Unrelated Features\n",
    "\n",
    "Some features should be removed before training, as they should have no impact on the shot outcome. We also drop PLAYER_ID here, but keep PLAYER_NAME as an easier way to indetify each player. Y consists of SHOT_MADE, the target prediction label for this experiment."
   ]
  },
  {
   "cell_type": "code",
   "execution_count": null,
   "id": "09df3256-1df7-4a09-be97-10a8d3a3d392",
   "metadata": {},
   "outputs": [],
   "source": [
    "df = pd.read_csv('./merged_data/24_25_allstats.csv')\n",
    "df = df.drop(columns=['SEASON_2', 'GAME_ID', 'ZONE_ABB', 'EVENT_TYPE', 'GAME_DATE',\n",
    "                     'PLAYER_ID', 'TEAM_ID', 'TEAM_NAME'])\n",
    "\n",
    "X = df.drop(columns=['SHOT_MADE', 'PLAYER_NAME'])\n",
    "y = df['SHOT_MADE'].astype(int)\n",
    "X_encoded = pd.get_dummies(X)\n",
    "X_encoded['PLAYER_NAME'] = df['PLAYER_NAME']\n",
    "\n",
    "X_train, X_test, y_train, y_test = train_test_split(\n",
    "    X_encoded.drop(columns=['PLAYER_NAME']),  # Remove PLAYER_ID for training\n",
    "    y, \n",
    "    test_size=0.2, \n",
    "    stratify=y,\n",
    "    random_state=42\n",
    ")\n",
    "\n",
    "test_player_ids = X_encoded.iloc[X_test.index]['PLAYER_NAME']"
   ]
  },
  {
   "cell_type": "markdown",
   "id": "ca103d38-d859-42d2-8f6d-2f94d625be01",
   "metadata": {},
   "source": [
    "Finally, we train the random forest with x and y, and store the model for analysis. For this project, I used a model trained specifically on the 24-25 season, and tested the model on data from previous years."
   ]
  },
  {
   "cell_type": "code",
   "execution_count": null,
   "id": "a382f6c8-7aa8-4cfd-8146-bf448befef27",
   "metadata": {},
   "outputs": [],
   "source": [
    "model = RandomForestClassifier(n_estimators=100, random_state=42, verbose=1)\n",
    "model.fit(X_train, y_train)\n",
    "\n",
    "joblib.dump({\n",
    "    'model': model,\n",
    "    'test_player_ids': test_player_ids,\n",
    "    'feature_names': X_train.columns\n",
    "}, './models/random_forest_24_25.joblib')"
   ]
  }
 ],
 "metadata": {
  "kernelspec": {
   "display_name": "Python 3 (ipykernel)",
   "language": "python",
   "name": "python3"
  },
  "language_info": {
   "codemirror_mode": {
    "name": "ipython",
    "version": 3
   },
   "file_extension": ".py",
   "mimetype": "text/x-python",
   "name": "python",
   "nbconvert_exporter": "python",
   "pygments_lexer": "ipython3",
   "version": "3.12.8"
  }
 },
 "nbformat": 4,
 "nbformat_minor": 5
}
