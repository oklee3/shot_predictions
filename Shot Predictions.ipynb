{
 "cells": [
  {
   "cell_type": "markdown",
   "id": "c606958d-d81d-4b33-96e4-97ee650a90a7",
   "metadata": {},
   "source": [
    "<h1 style=\"text-align: center;\">NBA Shot Predictor</h1>\n",
    "<h5 style=\"text-align: center;\">Oliver Lee</h5>"
   ]
  },
  {
   "cell_type": "markdown",
   "id": "54b8b4e3-1850-43ba-a4fb-9e321cdcf43a",
   "metadata": {},
   "source": [
    "\n",
    "## 1. Data Collection and Preprocessing  \n",
    "The goal of this project is to train a model to predict the likelihood a shot is made based on a variety of factors including shot location, shot type, player stats, and more. The main data used for training is found here: https://github.com/DomSamangy/NBA_Shots_04_25. This data contains every shot taken in the NBA from 2004-2025, with features such as player, shot type, shot location, etc.  \n",
    "\n",
    "Then merge this data with individual player statistics from the NBA API as shown below."
   ]
  },
  {
   "cell_type": "code",
   "execution_count": 2,
   "id": "717c1270-e3e0-4f23-adf1-710dbd5f113a",
   "metadata": {},
   "outputs": [],
   "source": [
    "import pandas as pd\n",
    "from tqdm.notebook import tqdm\n",
    "import time\n",
    "from nba_api.stats.endpoints import PlayerDashboardByYearOverYear"
   ]
  },
  {
   "cell_type": "markdown",
   "id": "01ab3649-d200-40d0-8532-cdfc386a8bdf",
   "metadata": {},
   "source": [
    "#### Define function to fetch stats for a single player\n",
    "\n",
    "This function uses the NBA API to get field goal %, 3-point %, and minutes played for a given player in the specified season."
   ]
  },
  {
   "cell_type": "code",
   "execution_count": 3,
   "id": "c734f6fc-9a81-495b-b021-86863e808cdf",
   "metadata": {},
   "outputs": [],
   "source": [
    "def get_player_stats(player_id, season='2024-25'):\n",
    "    try:\n",
    "        dash = PlayerDashboardByYearOverYear(player_id=player_id, season=season)\n",
    "        df = dash.get_data_frames()[1]\n",
    "        latest_season = df[df['GROUP_VALUE'] == season]\n",
    "        stats = latest_season[['FG_PCT', 'FG3_PCT', 'MIN']].copy()\n",
    "        stats['PLAYER_ID'] = player_id\n",
    "        return stats\n",
    "    except Exception as e:\n",
    "        return None"
   ]
  },
  {
   "cell_type": "markdown",
   "id": "3b9fc4d8-49cc-4fb0-9a5c-1c4d90d1bd1e",
   "metadata": {},
   "source": [
    "#### Load the raw shot data and fetch stats for unique player IDs"
   ]
  },
  {
   "cell_type": "code",
   "execution_count": null,
   "id": "944b1d44-1986-480d-9c89-8dcd105abefe",
   "metadata": {},
   "outputs": [],
   "source": [
    "original_df = pd.read_csv(\"./raw_data/NBA_2025_Shots.csv\")\n",
    "unique_ids = original_df['PLAYER_ID'].unique()\n",
    "print(f\"Loaded {len(original_df)} shot records for {len(unique_ids)} unique players.\")\n",
    "\n",
    "all_stats = []\n",
    "failed_ids = []\n",
    "\n",
    "for pid in tqdm(unique_ids, desc=\"Fetching Player Stats\"):\n",
    "    stats_df = get_player_stats(pid)\n",
    "    if stats_df is not None:\n",
    "        all_stats.append(stats_df)\n",
    "    else:\n",
    "        failed_ids.append(pid)\n",
    "    time.sleep(0.5)  # Delay to avoid API rate limit"
   ]
  },
  {
   "cell_type": "markdown",
   "id": "9b76be79-4b8f-4e10-85ff-b07c6931077f",
   "metadata": {},
   "source": [
    "#### Merge the fetched stats with the original shot data\n",
    "\n",
    "We'll combine all player stats, merge them with the original dataframe, then save the results."
   ]
  },
  {
   "cell_type": "code",
   "execution_count": null,
   "id": "8d29fb81-8634-4028-ad5f-f0746b6c887f",
   "metadata": {},
   "outputs": [],
   "source": [
    "if all_stats:\n",
    "    stats_combined = pd.concat(all_stats, ignore_index=True)\n",
    "    merged_df = original_df.merge(stats_combined, on='PLAYER_ID', how='left')\n",
    "    \n",
    "    # Preview the merged data\n",
    "    display(merged_df.head())\n",
    "    \n",
    "    # Save merged data to CSV\n",
    "    merged_df.to_csv(\"./merged_data/24_25_allstats.csv\", index=False)\n",
    "    print(f\"Saved merged stats to './merged_data/23_24_allstats.csv'.\")\n",
    "else:\n",
    "    print(\"No player stats were retrieved.\")\n",
    "\n",
    "if failed_ids:\n",
    "    print(f\"Failed to fetch stats for {len(failed_ids)} players:\")\n",
    "    print(failed_ids)\n",
    "else:\n",
    "    print(\"Successfully fetched stats for all players.\")"
   ]
  },
  {
   "cell_type": "markdown",
   "id": "eacb4590-59c8-4841-a956-151985592020",
   "metadata": {},
   "source": [
    "This merging process takes quite a while thanks to the API's rate limiting, but the final merged data will look like this (first 2 lines shown):"
   ]
  },
  {
   "cell_type": "markdown",
   "id": "7f329682-908a-4fd8-bdab-413469b715ab",
   "metadata": {},
   "source": [
    "| SEASON_1 | SEASON_2 | TEAM_ID    | TEAM_NAME          | PLAYER_ID | PLAYER_NAME  | POSITION_GROUP | POSITION | GAME_DATE  | GAME_ID  | HOME_TEAM | AWAY_TEAM | EVENT_TYPE  | SHOT_MADE | ACTION_TYPE               | SHOT_TYPE         | BASIC_ZONE             | ZONE_NAME          | ZONE_ABB | ZONE_RANGE | LOC_X | LOC_Y  | SHOT_DISTANCE | QUARTER | MINS_LEFT | SECS_LEFT | FG_PCT | FG3_PCT | MIN          |\n",
    "|----------|----------|------------|--------------------|-----------|--------------|----------------|----------|------------|----------|-----------|-----------|-------------|-----------|---------------------------|-------------------|------------------------|--------------------|----------|------------|-------|--------|---------------|---------|-----------|-----------|--------|---------|--------------|\n",
    "| 2024     | 2023-24  | 1610612764 | Washington Wizards | 1629673   | Jordan Poole | G              | SG       | 11-03-2023 | 22300003 | MIA       | WAS       | Missed Shot | False     | Driving Floating Jump Shot | 2PT Field Goal    | In The Paint (Non-RA)  | Center             | C        | 8-16 ft.   | -0.4  | 17.45  | 12            | 1       | 11        | 1         | 0.413  | 0.326   | 2345.555     |\n",
    "| 2024     | 2023-24  | 1610612764 | Washington Wizards | 1630166   | Deni Avdija  | F              | SF       | 11-03-2023 | 22300003 | MIA       | WAS       | Made Shot   | True      | Jump Shot                 | 3PT Field Goal    | Above the Break 3       | Center             | C        | 24+ ft.    | 1.5   | 30.55  | 25            | 1       | 10        | 26        | 0.506  | 0.374   | 2256.6433333 |"
   ]
  },
  {
   "cell_type": "markdown",
   "id": "c27f2863-b1b2-4cbd-9347-0ea1567bd063",
   "metadata": {},
   "source": [
    "## 2. Training a Random Forest Classifier"
   ]
  },
  {
   "cell_type": "code",
   "execution_count": 2,
   "id": "9fe19cd4-19c0-4d43-a003-1ffece893beb",
   "metadata": {},
   "outputs": [],
   "source": [
    "import pandas as pd\n",
    "import numpy as np\n",
    "import joblib\n",
    "from sklearn.ensemble import RandomForestClassifier\n",
    "from sklearn.model_selection import train_test_split"
   ]
  },
  {
   "cell_type": "markdown",
   "id": "69f4ae5c-5d32-4835-b372-8fd4b662750a",
   "metadata": {},
   "source": [
    "#### Removing Unrelated Features\n",
    "\n",
    "Some features should be removed before training, as they should have no impact on the shot outcome. We also drop PLAYER_ID here, but keep PLAYER_NAME as an easier way to indetify each player. Y consists of SHOT_MADE, the target prediction label for this experiment."
   ]
  },
  {
   "cell_type": "code",
   "execution_count": 3,
   "id": "09df3256-1df7-4a09-be97-10a8d3a3d392",
   "metadata": {},
   "outputs": [],
   "source": [
    "df = pd.read_csv('./raw_data/NBA_2025_Shots.csv')\n",
    "df = df.drop(columns=['SEASON_2', 'GAME_ID', 'ZONE_ABB', 'EVENT_TYPE', 'GAME_DATE',\n",
    "                     'PLAYER_ID', 'TEAM_ID', 'TEAM_NAME'])\n",
    "\n",
    "X = df.drop(columns=['SHOT_MADE', 'PLAYER_NAME'])\n",
    "y = df['SHOT_MADE'].astype(int)\n",
    "X_encoded = pd.get_dummies(X)\n",
    "X_encoded['PLAYER_NAME'] = df['PLAYER_NAME']\n",
    "\n",
    "X_train, X_test, y_train, y_test = train_test_split(\n",
    "    X_encoded.drop(columns=['PLAYER_NAME']),  # Remove PLAYER_ID for training\n",
    "    y, \n",
    "    test_size=0.2, \n",
    "    stratify=y,\n",
    "    random_state=42\n",
    ")\n",
    "\n",
    "test_player_ids = X_encoded.iloc[X_test.index]['PLAYER_NAME']"
   ]
  },
  {
   "cell_type": "markdown",
   "id": "ca103d38-d859-42d2-8f6d-2f94d625be01",
   "metadata": {},
   "source": [
    "Finally, we train the random forest with x and y, and store the model for analysis. For this project, I used a model trained specifically on the 24-25 season, and tested the model on data from previous years."
   ]
  },
  {
   "cell_type": "code",
   "execution_count": 4,
   "id": "a382f6c8-7aa8-4cfd-8146-bf448befef27",
   "metadata": {},
   "outputs": [
    {
     "data": {
      "text/plain": [
       "['./models/random_forest_24_25.joblib']"
      ]
     },
     "execution_count": 4,
     "metadata": {},
     "output_type": "execute_result"
    }
   ],
   "source": [
    "model = RandomForestClassifier(n_estimators=100, random_state=42, verbose=0)\n",
    "model.fit(X_train, y_train)\n",
    "\n",
    "joblib.dump({\n",
    "    'model': model,\n",
    "    'test_player_ids': test_player_ids,\n",
    "    'feature_names': X_train.columns\n",
    "}, './models/random_forest_24_25.joblib')"
   ]
  },
  {
   "cell_type": "markdown",
   "id": "76869423",
   "metadata": {},
   "source": [
    "## 3. Testing Model Performance"
   ]
  },
  {
   "cell_type": "code",
   "execution_count": 5,
   "id": "6993ad27",
   "metadata": {},
   "outputs": [],
   "source": [
    "import pandas as pd\n",
    "import numpy as np\n",
    "import joblib"
   ]
  },
  {
   "cell_type": "markdown",
   "id": "cf6d86b3",
   "metadata": {},
   "source": [
    "Load the stored model and merged data from a different season (in this case, 24-25 model on 23-24 data). Then drop the same columns from this data. "
   ]
  },
  {
   "cell_type": "code",
   "execution_count": 6,
   "id": "6532a7bc",
   "metadata": {},
   "outputs": [],
   "source": [
    "model_data = joblib.load('./models/random_forest_24_25.joblib')\n",
    "model = model_data['model']\n",
    "trained_features = model_data['feature_names']\n",
    "\n",
    "df = pd.read_csv('./raw_data/NBA_2024_Shots.csv')\n",
    "df = df.drop(columns=['SEASON_2', 'GAME_ID', 'ZONE_ABB', 'EVENT_TYPE', 'GAME_DATE',\n",
    "                     'PLAYER_ID', 'TEAM_ID', 'TEAM_NAME'])"
   ]
  },
  {
   "cell_type": "markdown",
   "id": "7565b154",
   "metadata": {},
   "source": [
    "Now we can see the model's predictions and search by any desired metrics. For preliminary testing, I created predicitons for some individual players, just displaying accuracy as well as each example that was incorrectly classified. (Limited to 5 examples here)"
   ]
  },
  {
   "cell_type": "code",
   "execution_count": 8,
   "id": "ab9ac9d6",
   "metadata": {},
   "outputs": [
    {
     "name": "stdout",
     "output_type": "stream",
     "text": [
      "Correct Predictions: 537 / 894\n",
      "Accuracy for Immanuel Quickley: 0.6006711409395973\n",
      "\n",
      "Mismatched Predictions (SHOT_MADE != PREDICTED_MADE):\n",
      "             PLAYER_NAME                      ACTION_TYPE       SHOT_TYPE  SHOT_DISTANCE         ZONE_NAME  SHOT_MADE  PREDICTED_MADE  PREDICTED_PROB\n",
      "17577  Immanuel Quickley                        Jump Shot  3PT Field Goal             25  Left Side Center       True               0            0.24\n",
      "17588  Immanuel Quickley                        Jump Shot  3PT Field Goal             27  Left Side Center       True               0            0.44\n",
      "17611  Immanuel Quickley       Driving Floating Jump Shot  2PT Field Goal             11         Left Side       True               0            0.44\n",
      "17626  Immanuel Quickley  Driving Floating Bank Jump Shot  2PT Field Goal             13        Right Side       True               0            0.42\n",
      "17650  Immanuel Quickley       Driving Floating Jump Shot  2PT Field Goal              9            Center       True               0            0.41\n"
     ]
    }
   ],
   "source": [
    "player_name = \"Immanuel Quickley\"\n",
    "\n",
    "player_rows = df[df['PLAYER_NAME'] == player_name].copy()\n",
    "player_y = player_rows['SHOT_MADE'].astype(int)\n",
    "\n",
    "player_X = player_rows.drop(columns=['SHOT_MADE', 'PLAYER_NAME'])\n",
    "player_X_encoded = pd.get_dummies(player_X)\n",
    "player_X_encoded = player_X_encoded.reindex(columns=trained_features, fill_value=0)\n",
    "\n",
    "predictions = model.predict(player_X_encoded)\n",
    "probabilities = model.predict_proba(player_X_encoded)[:, 1]\n",
    "\n",
    "player_rows = player_rows.assign(\n",
    "    PREDICTED_MADE=predictions,\n",
    "    PREDICTED_PROB=probabilities\n",
    ")\n",
    "\n",
    "correct = np.sum(player_y.values == predictions)\n",
    "total = len(player_y)\n",
    "print(f\"Correct Predictions: {correct} / {total}\")\n",
    "print(f\"Accuracy for {player_name}: {correct / total}\")\n",
    "\n",
    "# find examples that were incorrectly classified\n",
    "mismatches = player_rows[player_rows['SHOT_MADE'] != player_rows['PREDICTED_MADE']]\n",
    "\n",
    "print(\"\\nMismatched Predictions (SHOT_MADE != PREDICTED_MADE):\")\n",
    "print(mismatches[[\n",
    "    'PLAYER_NAME', \n",
    "    'ACTION_TYPE', \n",
    "    'SHOT_TYPE', \n",
    "    'SHOT_DISTANCE', \n",
    "    'ZONE_NAME',\n",
    "    'SHOT_MADE', \n",
    "    'PREDICTED_MADE', \n",
    "    'PREDICTED_PROB'\n",
    "]].head(5).to_string())"
   ]
  },
  {
   "cell_type": "markdown",
   "id": "43cd42e3",
   "metadata": {},
   "source": [
    "## 4. Generating Unique Visualizations and Metrics\n",
    "\n",
    "One statistic I wanted to focus on is the notion of 'shot selection', specifically looking at the proportion of shots a player takes that the model predicts to be a miss or a make. Additionally, can look at how often the player makes a shot he is predicited to miss (a 'difficult' shot), or vice versa."
   ]
  },
  {
   "cell_type": "code",
   "execution_count": null,
   "id": "c7dd804f",
   "metadata": {},
   "outputs": [
    {
     "name": "stdout",
     "output_type": "stream",
     "text": [
      "player_rows shape: (2682, 23)\n",
      "X shape: (260682, 17)\n",
      "X_encoded shape: (260682, 139)\n",
      "trained_features length: 138\n"
     ]
    }
   ],
   "source": [
    "\n"
   ]
  }
 ],
 "metadata": {
  "kernelspec": {
   "display_name": "myenv",
   "language": "python",
   "name": "python3"
  },
  "language_info": {
   "codemirror_mode": {
    "name": "ipython",
    "version": 3
   },
   "file_extension": ".py",
   "mimetype": "text/x-python",
   "name": "python",
   "nbconvert_exporter": "python",
   "pygments_lexer": "ipython3",
   "version": "3.12.8"
  }
 },
 "nbformat": 4,
 "nbformat_minor": 5
}
